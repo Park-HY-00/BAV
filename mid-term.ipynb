{
 "cells": [
  {
   "cell_type": "code",
   "execution_count": 1,
   "metadata": {},
   "outputs": [
    {
     "name": "stdout",
     "output_type": "stream",
     "text": [
      "<class 'pandas.core.frame.DataFrame'>\n",
      "RangeIndex: 374 entries, 0 to 373\n",
      "Data columns (total 13 columns):\n",
      " #   Column                   Non-Null Count  Dtype  \n",
      "---  ------                   --------------  -----  \n",
      " 0   Person ID                374 non-null    int64  \n",
      " 1   Gender                   374 non-null    object \n",
      " 2   Age                      374 non-null    int64  \n",
      " 3   Occupation               374 non-null    object \n",
      " 4   Sleep Duration           374 non-null    float64\n",
      " 5   Quality of Sleep         374 non-null    int64  \n",
      " 6   Physical Activity Level  374 non-null    int64  \n",
      " 7   Stress Level             374 non-null    int64  \n",
      " 8   BMI Category             374 non-null    object \n",
      " 9   Blood Pressure           374 non-null    object \n",
      " 10  Heart Rate               374 non-null    int64  \n",
      " 11  Daily Steps              374 non-null    int64  \n",
      " 12  Sleep Disorder           155 non-null    object \n",
      "dtypes: float64(1), int64(7), object(5)\n",
      "memory usage: 38.1+ KB\n",
      "None\n"
     ]
    }
   ],
   "source": [
    "import plotly\n",
    "import matplotlib.pyplot as plt\n",
    "import pandas as pd\n",
    "\n",
    "df = pd.read_csv(\"Sleep_health_and_lifestyle_dataset.csv\")\n",
    "\n",
    "print(df.info())"
   ]
  },
  {
   "cell_type": "code",
   "execution_count": 2,
   "metadata": {},
   "outputs": [
    {
     "name": "stdout",
     "output_type": "stream",
     "text": [
      "   Person ID Gender  Age            Occupation  Sleep Duration  \\\n",
      "0          1   Male   27     Software Engineer             6.1   \n",
      "1          2   Male   28                Doctor             6.2   \n",
      "2          3   Male   28                Doctor             6.2   \n",
      "3          4   Male   28  Sales Representative             5.9   \n",
      "4          5   Male   28  Sales Representative             5.9   \n",
      "\n",
      "   Quality of Sleep  Physical Activity Level  Stress Level BMI Category  \\\n",
      "0                 6                       42             6   Overweight   \n",
      "1                 6                       60             8       Normal   \n",
      "2                 6                       60             8       Normal   \n",
      "3                 4                       30             8        Obese   \n",
      "4                 4                       30             8        Obese   \n",
      "\n",
      "  Blood Pressure  Heart Rate  Daily Steps Sleep Disorder  \n",
      "0         126/83          77         4200            NaN  \n",
      "1         125/80          75        10000            NaN  \n",
      "2         125/80          75        10000            NaN  \n",
      "3         140/90          85         3000    Sleep Apnea  \n",
      "4         140/90          85         3000    Sleep Apnea  \n"
     ]
    }
   ],
   "source": [
    "print(df.head())"
   ]
  },
  {
   "cell_type": "code",
   "execution_count": 3,
   "metadata": {},
   "outputs": [
    {
     "name": "stdout",
     "output_type": "stream",
     "text": [
      "<class 'pandas.core.frame.DataFrame'>\n",
      "RangeIndex: 374 entries, 0 to 373\n",
      "Data columns (total 14 columns):\n",
      " #   Column                   Non-Null Count  Dtype  \n",
      "---  ------                   --------------  -----  \n",
      " 0   Person ID                374 non-null    int64  \n",
      " 1   Gender                   374 non-null    object \n",
      " 2   Age                      374 non-null    int64  \n",
      " 3   Occupation               374 non-null    object \n",
      " 4   Sleep Duration           374 non-null    float64\n",
      " 5   Quality of Sleep         374 non-null    int64  \n",
      " 6   Physical Activity Level  374 non-null    int64  \n",
      " 7   Stress Level             374 non-null    int64  \n",
      " 8   BMI Category             374 non-null    object \n",
      " 9   Heart Rate               374 non-null    int64  \n",
      " 10  Daily Steps              374 non-null    int64  \n",
      " 11  Sleep Disorder           155 non-null    object \n",
      " 12  Systolic Pressure        374 non-null    int64  \n",
      " 13  Diastolic Pressure       374 non-null    int64  \n",
      "dtypes: float64(1), int64(9), object(4)\n",
      "memory usage: 41.0+ KB\n",
      "None\n"
     ]
    }
   ],
   "source": [
    "# 'Blood Pressure' 열을 나누어 'Systolic Pressure'와 'Diastolic Pressure' 열로 저장\n",
    "df[['Systolic Pressure', 'Diastolic Pressure']] = df['Blood Pressure'].str.split('/', expand=True)\n",
    "\n",
    "# 'Systolic Pressure'와 'Diastolic Pressure' 열의 데이터 타입을 숫자로 변환\n",
    "df['Systolic Pressure'] = pd.to_numeric(df['Systolic Pressure'], errors='coerce')\n",
    "df['Diastolic Pressure'] = pd.to_numeric(df['Diastolic Pressure'], errors='coerce')\n",
    "\n",
    "# 'Blood Pressure' 열 제거\n",
    "df.drop(columns=['Blood Pressure'], inplace=True)\n",
    "\n",
    "# 변환된 DataFrame 출력\n",
    "print(df.info())"
   ]
  },
  {
   "cell_type": "code",
   "execution_count": 4,
   "metadata": {},
   "outputs": [
    {
     "name": "stdout",
     "output_type": "stream",
     "text": [
      "   Person ID Gender  Age            Occupation  Sleep Duration  \\\n",
      "0          1   Male   27     Software Engineer             6.1   \n",
      "1          2   Male   28                Doctor             6.2   \n",
      "2          3   Male   28                Doctor             6.2   \n",
      "3          4   Male   28  Sales Representative             5.9   \n",
      "4          5   Male   28  Sales Representative             5.9   \n",
      "\n",
      "   Quality of Sleep  Physical Activity Level  Stress Level BMI Category  \\\n",
      "0                 6                       42             6   Overweight   \n",
      "1                 6                       60             8       Normal   \n",
      "2                 6                       60             8       Normal   \n",
      "3                 4                       30             8        Obese   \n",
      "4                 4                       30             8        Obese   \n",
      "\n",
      "   Heart Rate  Daily Steps Sleep Disorder  Systolic Pressure  \\\n",
      "0          77         4200            NaN                126   \n",
      "1          75        10000            NaN                125   \n",
      "2          75        10000            NaN                125   \n",
      "3          85         3000    Sleep Apnea                140   \n",
      "4          85         3000    Sleep Apnea                140   \n",
      "\n",
      "   Diastolic Pressure  \n",
      "0                  83  \n",
      "1                  80  \n",
      "2                  80  \n",
      "3                  90  \n",
      "4                  90  \n"
     ]
    }
   ],
   "source": [
    "# IQR을 이용한 이상치 처리 함수 정의\n",
    "def handle_outliers_iqr(column):\n",
    "    Q1 = df[column].quantile(0.25)\n",
    "    Q3 = df[column].quantile(0.75)\n",
    "    IQR = Q3 - Q1\n",
    "    lower_bound = Q1 - 1.5 * IQR\n",
    "    upper_bound = Q3 + 1.5 * IQR\n",
    "    new_df = df[(df[column] >= lower_bound) & (df[column] <= upper_bound)]\n",
    "    return new_df\n",
    "\n",
    "# 'Sleep Duration' 열의 이상치 처리\n",
    "new_df = handle_outliers_iqr('Sleep Duration')\n",
    "\n",
    "# 'Quality of Sleep' 열의 이상치 처리\n",
    "new_df = handle_outliers_iqr('Quality of Sleep')\n",
    "\n",
    "# 이상치 처리된 DataFrame 출력\n",
    "print(new_df.head())"
   ]
  },
  {
   "cell_type": "code",
   "execution_count": 5,
   "metadata": {},
   "outputs": [
    {
     "name": "stdout",
     "output_type": "stream",
     "text": [
      "     Person ID  Gender  Age Occupation  Sleep Duration  Quality of Sleep  \\\n",
      "369        370  Female   59      Nurse             8.1                 9   \n",
      "370        371  Female   59      Nurse             8.0                 9   \n",
      "371        372  Female   59      Nurse             8.1                 9   \n",
      "372        373  Female   59      Nurse             8.1                 9   \n",
      "373        374  Female   59      Nurse             8.1                 9   \n",
      "\n",
      "     Physical Activity Level  Stress Level BMI Category  Heart Rate  \\\n",
      "369                       75             3   Overweight          68   \n",
      "370                       75             3   Overweight          68   \n",
      "371                       75             3   Overweight          68   \n",
      "372                       75             3   Overweight          68   \n",
      "373                       75             3   Overweight          68   \n",
      "\n",
      "     Daily Steps Sleep Disorder  Systolic Pressure  Diastolic Pressure  \n",
      "369         7000    Sleep Apnea                140                  95  \n",
      "370         7000    Sleep Apnea                140                  95  \n",
      "371         7000    Sleep Apnea                140                  95  \n",
      "372         7000    Sleep Apnea                140                  95  \n",
      "373         7000    Sleep Apnea                140                  95  \n"
     ]
    }
   ],
   "source": [
    "print(new_df.tail())"
   ]
  },
  {
   "cell_type": "code",
   "execution_count": 6,
   "metadata": {},
   "outputs": [
    {
     "name": "stdout",
     "output_type": "stream",
     "text": [
      "   Person ID Gender  Age            Occupation  Sleep Duration  \\\n",
      "0          1   Male   27     Software Engineer             6.1   \n",
      "1          2   Male   28                Doctor             6.2   \n",
      "2          3   Male   28                Doctor             6.2   \n",
      "3          4   Male   28  Sales Representative             5.9   \n",
      "4          5   Male   28  Sales Representative             5.9   \n",
      "\n",
      "   Quality of Sleep  Physical Activity Level  Stress Level BMI Category  \\\n",
      "0                 6                       42             6   Overweight   \n",
      "1                 6                       60             8       Normal   \n",
      "2                 6                       60             8       Normal   \n",
      "3                 4                       30             8        Obese   \n",
      "4                 4                       30             8        Obese   \n",
      "\n",
      "   Heart Rate  Daily Steps Sleep Disorder  Systolic Pressure  \\\n",
      "0          77         4200           None                126   \n",
      "1          75        10000           None                125   \n",
      "2          75        10000           None                125   \n",
      "3          85         3000    Sleep Apnea                140   \n",
      "4          85         3000    Sleep Apnea                140   \n",
      "\n",
      "   Diastolic Pressure  \n",
      "0                  83  \n",
      "1                  80  \n",
      "2                  80  \n",
      "3                  90  \n",
      "4                  90  \n"
     ]
    }
   ],
   "source": [
    "# 'Sleep Disorder' 열의 결측치를 'None'으로 대체하여 새로운 DataFrame 생성\n",
    "noMV_df = df.copy()  # 원본 데이터프레임을 변경하지 않기 위해 복사본 생성\n",
    "noMV_df['Sleep Disorder'].fillna('None', inplace=True)\n",
    "\n",
    "# 결측치가 대체된 DataFrame 출력\n",
    "print(noMV_df.head())"
   ]
  },
  {
   "cell_type": "code",
   "execution_count": null,
   "metadata": {},
   "outputs": [],
   "source": []
  }
 ],
 "metadata": {
  "kernelspec": {
   "display_name": "visual",
   "language": "python",
   "name": "python3"
  },
  "language_info": {
   "codemirror_mode": {
    "name": "ipython",
    "version": 3
   },
   "file_extension": ".py",
   "mimetype": "text/x-python",
   "name": "python",
   "nbconvert_exporter": "python",
   "pygments_lexer": "ipython3",
   "version": "3.9.0"
  }
 },
 "nbformat": 4,
 "nbformat_minor": 2
}
