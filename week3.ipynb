{
 "cells": [
  {
   "cell_type": "code",
   "execution_count": 1,
   "metadata": {},
   "outputs": [
    {
     "name": "stdout",
     "output_type": "stream",
     "text": [
      "1.26.0\n"
     ]
    }
   ],
   "source": [
    "import numpy as np\n",
    "print(np.__version__)"
   ]
  },
  {
   "cell_type": "code",
   "execution_count": 2,
   "metadata": {},
   "outputs": [
    {
     "name": "stdout",
     "output_type": "stream",
     "text": [
      "[[55 55 55]\n",
      " [55 55 55]\n",
      " [55 55 55]]\n"
     ]
    }
   ],
   "source": [
    "arr1 = np.full(shape=(3,3),fill_value=55)\n",
    "print(arr1)"
   ]
  },
  {
   "cell_type": "code",
   "execution_count": 3,
   "metadata": {},
   "outputs": [
    {
     "name": "stdout",
     "output_type": "stream",
     "text": [
      "[0. 0. 0. 0. 1. 0. 0. 0. 0. 0.]\n"
     ]
    }
   ],
   "source": [
    "arr2 = np.zeros(10)\n",
    "arr2[4] = 1\n",
    "print(arr2)"
   ]
  },
  {
   "cell_type": "code",
   "execution_count": 4,
   "metadata": {},
   "outputs": [
    {
     "name": "stdout",
     "output_type": "stream",
     "text": [
      "[9 8 7 6 5 4 3 2 1 0]\n"
     ]
    }
   ],
   "source": [
    "arr3 = np.arange(0, 10, 1)\n",
    "arr3 = arr3[::-1]\n",
    "print(arr3)"
   ]
  },
  {
   "cell_type": "code",
   "execution_count": 5,
   "metadata": {},
   "outputs": [
    {
     "name": "stdout",
     "output_type": "stream",
     "text": [
      "[[0 1 2]\n",
      " [3 4 5]\n",
      " [6 7 8]]\n"
     ]
    }
   ],
   "source": [
    "arr4 = np.arange(9)\n",
    "arr4 = arr4.reshape(3,3)\n",
    "print(arr4)"
   ]
  },
  {
   "cell_type": "code",
   "execution_count": 6,
   "metadata": {},
   "outputs": [
    {
     "name": "stdout",
     "output_type": "stream",
     "text": [
      "2\n",
      "[1 2]\n",
      "[2 3]\n",
      "[2 3]\n"
     ]
    }
   ],
   "source": [
    "data = np.array([1, 2, 3])\n",
    "\n",
    "print(data[1])\n",
    "print(data[0:2])\n",
    "print(data[1:])\n",
    "print(data[-2:])"
   ]
  },
  {
   "cell_type": "code",
   "execution_count": 7,
   "metadata": {},
   "outputs": [
    {
     "name": "stdout",
     "output_type": "stream",
     "text": [
      "[5 6]\n"
     ]
    }
   ],
   "source": [
    "arr5 = np.array([1, 2, 3, 4, 5, 6, 7])\n",
    "print(arr5[-3:-1])"
   ]
  },
  {
   "cell_type": "code",
   "execution_count": 8,
   "metadata": {},
   "outputs": [
    {
     "name": "stdout",
     "output_type": "stream",
     "text": [
      "[3 8]\n",
      "[3]\n",
      "[8]\n"
     ]
    }
   ],
   "source": [
    "arr6 = np.array([[1, 2, 3,4,5], [6, 7, 8, 9, 10]])\n",
    "print(arr6[0:2, 2])\n",
    "print(arr6[0:1, 2])\n",
    "print(arr6[1:2, 2])"
   ]
  },
  {
   "cell_type": "code",
   "execution_count": 9,
   "metadata": {},
   "outputs": [
    {
     "name": "stdout",
     "output_type": "stream",
     "text": [
      "[[1 2 3]\n",
      " [4 5 6]]\n"
     ]
    }
   ],
   "source": [
    "arr7 = np.array([1, 2, 3])\n",
    "arr8 = np.array([4, 5, 6])\n",
    "arr = np.stack((arr7, arr8), axis=0)\n",
    "print(arr)"
   ]
  },
  {
   "cell_type": "code",
   "execution_count": 10,
   "metadata": {},
   "outputs": [
    {
     "name": "stdout",
     "output_type": "stream",
     "text": [
      "[28 13 45 12  4  8  0]\n",
      "[6 4 5 3 1 0 2]\n"
     ]
    }
   ],
   "source": [
    "array = np.array([28, 13, 45, 12, 4, 8, 0])\n",
    "print(array)\n",
    "print(np.argsort(array))"
   ]
  },
  {
   "cell_type": "code",
   "execution_count": 11,
   "metadata": {},
   "outputs": [
    {
     "name": "stdout",
     "output_type": "stream",
     "text": [
      "[[0. 1. 2. 3. 4.]\n",
      " [0. 1. 2. 3. 4.]\n",
      " [0. 1. 2. 3. 4.]\n",
      " [0. 1. 2. 3. 4.]\n",
      " [0. 1. 2. 3. 4.]]\n"
     ]
    }
   ],
   "source": [
    "arr = np.zeros((5, 5))\n",
    "# for x in arr:\n",
    "#     arr[x] = np.arange(0, 5, 1)\n",
    "arr[0] = np.arange(0, 5, 1)\n",
    "arr[1] = np.arange(0, 5, 1)\n",
    "arr[2] = np.arange(0, 5, 1)\n",
    "arr[3] = np.arange(0, 5, 1)\n",
    "arr[4] = np.arange(0, 5, 1)\n",
    "print(arr)"
   ]
  },
  {
   "cell_type": "code",
   "execution_count": 12,
   "metadata": {},
   "outputs": [
    {
     "name": "stdout",
     "output_type": "stream",
     "text": [
      "[[[0 0 0 0]\n",
      "  [2 2 2 2]\n",
      "  [0 0 0 0]]\n",
      "\n",
      " [[0 0 0 0]\n",
      "  [2 2 2 2]\n",
      "  [0 0 0 0]]]\n"
     ]
    }
   ],
   "source": [
    "arr9 = np.zeros((2, 3, 4), dtype=int)\n",
    "arr9[:, 1] = 2\n",
    "print(arr9)"
   ]
  },
  {
   "cell_type": "code",
   "execution_count": 13,
   "metadata": {},
   "outputs": [
    {
     "name": "stdout",
     "output_type": "stream",
     "text": [
      "[[0 1 0 0 0 0 0 0]\n",
      " [0 0 1 0 0 0 0 0]\n",
      " [0 0 0 1 0 0 0 0]\n",
      " [0 0 0 0 1 0 0 0]\n",
      " [0 0 0 0 0 1 0 0]\n",
      " [0 0 0 0 0 0 1 0]\n",
      " [0 0 0 0 0 0 0 1]\n",
      " [0 0 0 0 0 0 0 0]]\n"
     ]
    }
   ],
   "source": [
    "arr10 = np.eye(8, k=1, dtype=int)\n",
    "\n",
    "print(arr10)"
   ]
  },
  {
   "cell_type": "code",
   "execution_count": 14,
   "metadata": {},
   "outputs": [
    {
     "name": "stdout",
     "output_type": "stream",
     "text": [
      "[[ 3  2  8]\n",
      " [ 4 12 34]\n",
      " [23 12 67]\n",
      " [ 2  1  8]]\n"
     ]
    }
   ],
   "source": [
    "array = np.array([\n",
    "    [3, 2, 8],\n",
    "    [4, 12, 34],\n",
    "    [23, 12, 67]\n",
    "])\n",
    "\n",
    "newRow = np.array([2, 1, 8])\n",
    "result = np.vstack((array, newRow))\n",
    "print(result)"
   ]
  },
  {
   "cell_type": "code",
   "execution_count": 17,
   "metadata": {},
   "outputs": [
    {
     "name": "stdout",
     "output_type": "stream",
     "text": [
      "[-1.5 -1.5 -1.5]\n"
     ]
    }
   ],
   "source": [
    "A = np.ones(3)*1\n",
    "B = np.ones(3)*2\n",
    "#result = ((A+B)*(-A/2)) \n",
    "# 함수 가져와서 풀어쓰기\n",
    "result1 = np.add(A, B)\n",
    "result2 = np.negative(A)\n",
    "result3 = np.divide(result2, 2)\n",
    "result = np.multiply(result1, result3)\n",
    "print(result)"
   ]
  },
  {
   "cell_type": "code",
   "execution_count": 16,
   "metadata": {},
   "outputs": [
    {
     "name": "stdout",
     "output_type": "stream",
     "text": [
      "5.5\n",
      "30.6\n",
      "34.0\n"
     ]
    }
   ],
   "source": [
    "list = [\n",
    "    np.array([3, 2, 8, 9]),\t\t\t#5.5\n",
    "    np.array([4, 12, 34, 25, 78]),\t\t#30.6\n",
    "    np.array([23, 12, 67])\t\t\t#34.0\n",
    "]\n",
    "mean1 = np.mean(list[0])\n",
    "mean2 = np.mean(list[1])\n",
    "mean3 = np.mean(list[2])\n",
    "print(mean1)\n",
    "print(mean2)\n",
    "print(mean3)"
   ]
  }
 ],
 "metadata": {
  "kernelspec": {
   "display_name": "Python 3.9.0 ('Visual')",
   "language": "python",
   "name": "python3"
  },
  "language_info": {
   "codemirror_mode": {
    "name": "ipython",
    "version": 3
   },
   "file_extension": ".py",
   "mimetype": "text/x-python",
   "name": "python",
   "nbconvert_exporter": "python",
   "pygments_lexer": "ipython3",
   "version": "3.9.0"
  },
  "orig_nbformat": 4,
  "vscode": {
   "interpreter": {
    "hash": "d1487da2ae8044b09c0b8da0f9089e3ff75f937db93c0e35b49db83520cb1a65"
   }
  }
 },
 "nbformat": 4,
 "nbformat_minor": 2
}
