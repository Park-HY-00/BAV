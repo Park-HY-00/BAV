{
 "cells": [
  {
   "cell_type": "code",
   "execution_count": null,
   "metadata": {},
   "outputs": [],
   "source": [
    "from sklearn.cluster import DBSCAN\n",
    "import pandas as pd\n",
    "import matplotlib.pyplot as plt\n",
    "\n",
    "\n",
    "flame_df = pd.read_csv(\"flame.csv\")\n",
    "\n",
    "training_points = flame_df[[\"col1\", \"col2\"]]\n",
    "training_labels = flame_df[\"target\"]\n",
    "\n",
    "dbscan = DBSCAN(eps=0.6, min_samples=10).fit(training_points)\n",
    "\n",
    "plt.scatter(training_points[\"col1\"], training_points[\"col2\"])"
   ]
  }
 ],
 "metadata": {
  "kernelspec": {
   "display_name": "Visual",
   "language": "python",
   "name": "python3"
  },
  "language_info": {
   "name": "python",
   "version": "3.9.0"
  }
 },
 "nbformat": 4,
 "nbformat_minor": 2
}
